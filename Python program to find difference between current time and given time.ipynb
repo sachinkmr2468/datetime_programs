{
 "cells": [
  {
   "cell_type": "markdown",
   "metadata": {},
   "source": [
    "# Python program to find difference between current time and given time"
   ]
  },
  {
   "cell_type": "code",
   "execution_count": 60,
   "metadata": {},
   "outputs": [
    {
     "name": "stdout",
     "output_type": "stream",
     "text": [
      "2 : 25\n"
     ]
    }
   ],
   "source": [
    "def timediff(h1,m1,h2,m2):\n",
    "    t1 = h1*60 + m1\n",
    "    t2 =h2*60 + m2\n",
    "    if(t1==t2):\n",
    "        print('both are same')\n",
    "    else:\n",
    "        diff = t2 - t1\n",
    "    h = (int(diff/60))%24\n",
    "    m = diff%60\n",
    "    print(h,':',m)\n",
    "\n",
    "timediff(7, 20, 9, 45)\n",
    "    \n"
   ]
  },
  {
   "cell_type": "code",
   "execution_count": null,
   "metadata": {},
   "outputs": [],
   "source": []
  }
 ],
 "metadata": {
  "kernelspec": {
   "display_name": "Python 3",
   "language": "python",
   "name": "python3"
  },
  "language_info": {
   "codemirror_mode": {
    "name": "ipython",
    "version": 3
   },
   "file_extension": ".py",
   "mimetype": "text/x-python",
   "name": "python",
   "nbconvert_exporter": "python",
   "pygments_lexer": "ipython3",
   "version": "3.8.5"
  }
 },
 "nbformat": 4,
 "nbformat_minor": 4
}
