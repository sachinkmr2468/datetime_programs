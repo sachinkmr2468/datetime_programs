{
 "cells": [
  {
   "cell_type": "markdown",
   "metadata": {},
   "source": [
    "# Get Current Date and Time using Python"
   ]
  },
  {
   "cell_type": "code",
   "execution_count": 29,
   "metadata": {},
   "outputs": [
    {
     "name": "stdout",
     "output_type": "stream",
     "text": [
      "2021-06-15 01:05:23.946754\n"
     ]
    }
   ],
   "source": [
    "from datetime import datetime\n",
    "x = datetime.now()\n",
    "print(x)"
   ]
  },
  {
   "cell_type": "code",
   "execution_count": 35,
   "metadata": {},
   "outputs": [
    {
     "name": "stdout",
     "output_type": "stream",
     "text": [
      "2021-06-15 01:06:56.955482\n"
     ]
    }
   ],
   "source": [
    "import datetime\n",
    "x = datetime.datetime.now()\n",
    "print(x)"
   ]
  },
  {
   "cell_type": "code",
   "execution_count": 36,
   "metadata": {},
   "outputs": [
    {
     "name": "stdout",
     "output_type": "stream",
     "text": [
      "The attributes of now() are : \n",
      "Year : 2021\n",
      "Month : 6\n",
      "Day : 15\n",
      "Hour : 1\n",
      "Minute : 9\n",
      "Second : 14\n",
      "Microsecond : 492373\n"
     ]
    }
   ],
   "source": [
    "# Python3 code to demonstrate \n",
    "# attributes of now() \n",
    "    \n",
    "# importing datetime module for now() \n",
    "import datetime \n",
    "    \n",
    "# using now() to get current time \n",
    "current_time = datetime.datetime.now() \n",
    "    \n",
    "# Printing attributes of now(). \n",
    "print (\"The attributes of now() are : \") \n",
    "    \n",
    "print (\"Year : \", end = \"\") \n",
    "print (current_time.year) \n",
    "    \n",
    "print (\"Month : \", end = \"\") \n",
    "print (current_time.month) \n",
    "    \n",
    "print (\"Day : \", end = \"\") \n",
    "print (current_time.day) \n",
    "    \n",
    "print (\"Hour : \", end = \"\") \n",
    "print (current_time.hour) \n",
    "    \n",
    "print (\"Minute : \", end = \"\") \n",
    "print (current_time.minute) \n",
    "    \n",
    "print (\"Second : \", end = \"\") \n",
    "print (current_time.second) \n",
    "    \n",
    "print (\"Microsecond : \", end = \"\") \n",
    "print (current_time.microsecond)"
   ]
  },
  {
   "cell_type": "code",
   "execution_count": 41,
   "metadata": {},
   "outputs": [
    {
     "name": "stdout",
     "output_type": "stream",
     "text": [
      "The current time in india is : \n",
      "2021-06-15 01:12:09.803055+05:30\n"
     ]
    }
   ],
   "source": [
    "import datetime \n",
    "    \n",
    "# for timezone() \n",
    "import pytz \n",
    "    \n",
    "# using now() to get current time \n",
    "current_time = datetime.datetime.now(pytz.timezone('Asia/Kolkata')) \n",
    "    \n",
    "# printing current time in india \n",
    "print (\"The current time in india is : \") \n",
    "print (current_time)"
   ]
  },
  {
   "cell_type": "code",
   "execution_count": 47,
   "metadata": {},
   "outputs": [
    {
     "name": "stdout",
     "output_type": "stream",
     "text": [
      "the current time in India is: 2021-06-15 01:14:23.709157+05:30\n"
     ]
    }
   ],
   "source": [
    "import datetime\n",
    "import pytz\n",
    "x = datetime.datetime.now(pytz.timezone('asia/kolkata'))\n",
    "print('the current time in India is:', x)\n"
   ]
  },
  {
   "cell_type": "code",
   "execution_count": null,
   "metadata": {},
   "outputs": [],
   "source": []
  }
 ],
 "metadata": {
  "kernelspec": {
   "display_name": "Python 3",
   "language": "python",
   "name": "python3"
  },
  "language_info": {
   "codemirror_mode": {
    "name": "ipython",
    "version": 3
   },
   "file_extension": ".py",
   "mimetype": "text/x-python",
   "name": "python",
   "nbconvert_exporter": "python",
   "pygments_lexer": "ipython3",
   "version": "3.8.5"
  }
 },
 "nbformat": 4,
 "nbformat_minor": 4
}
