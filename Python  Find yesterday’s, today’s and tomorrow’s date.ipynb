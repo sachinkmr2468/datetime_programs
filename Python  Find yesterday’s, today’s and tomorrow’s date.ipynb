{
 "cells": [
  {
   "cell_type": "markdown",
   "metadata": {},
   "source": [
    "# Python | Find yesterday’s, today’s and tomorrow’s date"
   ]
  },
  {
   "cell_type": "code",
   "execution_count": 55,
   "metadata": {},
   "outputs": [
    {
     "name": "stdout",
     "output_type": "stream",
     "text": [
      "presentday= 06/15/21-42-2021\n",
      "yesterday date= 06/14/21-42-2021\n",
      "tomorrow date= 06/16/21-42-2021\n",
      "day before yest= 06/13/21-42-2021\n"
     ]
    }
   ],
   "source": [
    "from datetime import datetime, timedelta\n",
    "x = datetime.now()\n",
    "y = x - timedelta(1)\n",
    "t = x + timedelta(1)\n",
    "y1 = x - timedelta(2)\n",
    "print('presentday=',x.strftime('%D-%M-%Y'))\n",
    "print('yesterday date=',y.strftime('%D-%M-%Y'))\n",
    "print('tomorrow date=',t.strftime('%D-%M-%Y'))\n",
    "print('day before yest=',y1.strftime('%D-%M-%Y'))"
   ]
  },
  {
   "cell_type": "code",
   "execution_count": 53,
   "metadata": {},
   "outputs": [
    {
     "name": "stdout",
     "output_type": "stream",
     "text": [
      "Yesterday =  14-06-2021\n",
      "Today =  15-06-2021\n",
      "Tomorrow =  16-06-2021\n"
     ]
    }
   ],
   "source": [
    "from datetime import datetime, timedelta\n",
    "\n",
    "presentday = datetime.now()\n",
    "  \n",
    "\n",
    "yesterday = presentday - timedelta(1)\n",
    "  \n",
    "\n",
    "tomorrow = presentday + timedelta(1)\n",
    "  \n",
    "  \n",
    "# strftime() is to format date according to\n",
    "# the need by converting them to string\n",
    "print(\"Yesterday = \", yesterday.strftime('%d-%m-%Y'))\n",
    "print(\"Today = \", presentday.strftime('%d-%m-%Y'))\n",
    "print(\"Tomorrow = \", tomorrow.strftime('%d-%m-%Y'))"
   ]
  },
  {
   "cell_type": "code",
   "execution_count": null,
   "metadata": {},
   "outputs": [],
   "source": []
  }
 ],
 "metadata": {
  "kernelspec": {
   "display_name": "Python 3",
   "language": "python",
   "name": "python3"
  },
  "language_info": {
   "codemirror_mode": {
    "name": "ipython",
    "version": 3
   },
   "file_extension": ".py",
   "mimetype": "text/x-python",
   "name": "python",
   "nbconvert_exporter": "python",
   "pygments_lexer": "ipython3",
   "version": "3.8.5"
  }
 },
 "nbformat": 4,
 "nbformat_minor": 4
}
